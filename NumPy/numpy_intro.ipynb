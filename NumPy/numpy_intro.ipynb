{
 "cells": [
  {
   "cell_type": "code",
   "execution_count": 2,
   "id": "0f8fda2e-0a44-4b34-a071-8a0ebe33966e",
   "metadata": {},
   "outputs": [],
   "source": [
    "import pandas as pd\n",
    "import numpy as np\n",
    "import matplotlib.pyplot as plt\n",
    "import sklearn"
   ]
  },
  {
   "cell_type": "markdown",
   "id": "427f40d1-9502-4e40-a42f-de11b46f6713",
   "metadata": {},
   "source": [
    "## Datatypes and attributes"
   ]
  },
  {
   "cell_type": "code",
   "execution_count": 3,
   "id": "98e0aade-0817-4d5e-9087-e5a0c11a7be3",
   "metadata": {},
   "outputs": [
    {
     "data": {
      "text/plain": [
       "array([1, 2, 3])"
      ]
     },
     "execution_count": 3,
     "metadata": {},
     "output_type": "execute_result"
    }
   ],
   "source": [
    "# NumPy's main datetype is ndarray\n",
    "a1 = np.array([1, 2, 3])\n",
    "a1"
   ]
  },
  {
   "cell_type": "code",
   "execution_count": 4,
   "id": "60534512-ca31-4f1c-a9d8-8f6cb6d254aa",
   "metadata": {},
   "outputs": [
    {
     "data": {
      "text/plain": [
       "numpy.ndarray"
      ]
     },
     "execution_count": 4,
     "metadata": {},
     "output_type": "execute_result"
    }
   ],
   "source": [
    "type(a1)"
   ]
  },
  {
   "cell_type": "code",
   "execution_count": 5,
   "id": "0e891c8a-5118-4e2d-a606-632f86549606",
   "metadata": {},
   "outputs": [
    {
     "data": {
      "text/plain": [
       "(3,)"
      ]
     },
     "execution_count": 5,
     "metadata": {},
     "output_type": "execute_result"
    }
   ],
   "source": [
    "a1.shape"
   ]
  },
  {
   "cell_type": "code",
   "execution_count": 6,
   "id": "0d947e36-bf23-4a44-833e-ee239da4aa1c",
   "metadata": {},
   "outputs": [
    {
     "data": {
      "text/plain": [
       "1"
      ]
     },
     "execution_count": 6,
     "metadata": {},
     "output_type": "execute_result"
    }
   ],
   "source": [
    "a1.ndim"
   ]
  },
  {
   "cell_type": "code",
   "execution_count": 7,
   "id": "6a39d50f-534b-4280-a8e2-d8ac0b99ae0d",
   "metadata": {},
   "outputs": [
    {
     "data": {
      "text/plain": [
       "dtype('int32')"
      ]
     },
     "execution_count": 7,
     "metadata": {},
     "output_type": "execute_result"
    }
   ],
   "source": [
    "a1.dtype"
   ]
  },
  {
   "cell_type": "code",
   "execution_count": 8,
   "id": "d19c29b7-c873-4e7c-b15a-06e4ab01b2cf",
   "metadata": {},
   "outputs": [
    {
     "data": {
      "text/plain": [
       "3"
      ]
     },
     "execution_count": 8,
     "metadata": {},
     "output_type": "execute_result"
    }
   ],
   "source": [
    "a1.size"
   ]
  },
  {
   "cell_type": "code",
   "execution_count": 11,
   "id": "f50529e3-34ef-4d67-855a-96a3c873335f",
   "metadata": {},
   "outputs": [],
   "source": [
    "ones = np.ones((3, 4), 'int32')"
   ]
  },
  {
   "cell_type": "code",
   "execution_count": 12,
   "id": "68286b77-3e53-4f01-9998-a3875c15125b",
   "metadata": {},
   "outputs": [
    {
     "data": {
      "text/plain": [
       "array([[1, 1, 1, 1],\n",
       "       [1, 1, 1, 1],\n",
       "       [1, 1, 1, 1]])"
      ]
     },
     "execution_count": 12,
     "metadata": {},
     "output_type": "execute_result"
    }
   ],
   "source": [
    "ones"
   ]
  },
  {
   "cell_type": "code",
   "execution_count": 17,
   "id": "a21313fc-1df4-4634-8b30-f10d94316a9b",
   "metadata": {},
   "outputs": [
    {
     "data": {
      "text/plain": [
       "array([20, 23, 26, 29, 32, 35, 38, 41, 44])"
      ]
     },
     "execution_count": 17,
     "metadata": {},
     "output_type": "execute_result"
    }
   ],
   "source": [
    "range_array = np.arange(20, 45, 3)\n",
    "range_array"
   ]
  },
  {
   "cell_type": "code",
   "execution_count": 22,
   "id": "6a2d7062-9175-4a99-8671-0fd9a0ca346a",
   "metadata": {},
   "outputs": [
    {
     "data": {
      "text/plain": [
       "array([[[1, 6],\n",
       "        [9, 9]],\n",
       "\n",
       "       [[2, 9],\n",
       "        [1, 6]],\n",
       "\n",
       "       [[1, 1],\n",
       "        [9, 8]],\n",
       "\n",
       "       [[8, 7],\n",
       "        [8, 7]],\n",
       "\n",
       "       [[2, 2],\n",
       "        [8, 0]]])"
      ]
     },
     "execution_count": 22,
     "metadata": {},
     "output_type": "execute_result"
    }
   ],
   "source": [
    "random_array = np.random.randint(0, 10, size=(5, 2, 2))\n",
    "random_array"
   ]
  },
  {
   "cell_type": "code",
   "execution_count": 23,
   "id": "85f0ba4a-7d0b-4dd0-bed1-44cd6efa5586",
   "metadata": {},
   "outputs": [
    {
     "data": {
      "text/plain": [
       "array([[0.4941267 , 0.34702447, 0.07714182, 0.52024224, 0.59643889],\n",
       "       [0.39700282, 0.98377801, 0.64166744, 0.02100648, 0.30336167],\n",
       "       [0.0283089 , 0.95492043, 0.97265491, 0.40265084, 0.64663929]])"
      ]
     },
     "execution_count": 23,
     "metadata": {},
     "output_type": "execute_result"
    }
   ],
   "source": [
    "random2 = np.random.random((3,5))\n",
    "random2"
   ]
  },
  {
   "cell_type": "code",
   "execution_count": 24,
   "id": "04943a81-6608-4fd1-bfca-4063a5494130",
   "metadata": {},
   "outputs": [
    {
     "data": {
      "text/plain": [
       "array([[0.4640884 , 0.59689433, 0.42095394],\n",
       "       [0.68078973, 0.28639527, 0.14873456],\n",
       "       [0.8534355 , 0.65299503, 0.60520283],\n",
       "       [0.88595391, 0.97973301, 0.70673878],\n",
       "       [0.33214057, 0.04617339, 0.99586566]])"
      ]
     },
     "execution_count": 24,
     "metadata": {},
     "output_type": "execute_result"
    }
   ],
   "source": [
    "np.random.rand(5,3)"
   ]
  },
  {
   "cell_type": "code",
   "execution_count": 33,
   "id": "09148113-2212-4066-af2f-422c8ac21680",
   "metadata": {},
   "outputs": [
    {
     "data": {
      "text/plain": [
       "array([[0, 1, 8],\n",
       "       [3, 5, 6],\n",
       "       [7, 0, 4],\n",
       "       [0, 9, 2],\n",
       "       [1, 9, 9]])"
      ]
     },
     "execution_count": 33,
     "metadata": {},
     "output_type": "execute_result"
    }
   ],
   "source": [
    "np.random.seed()\n",
    "arr = np.random.randint(10, size=(5,3))\n",
    "arr\n",
    "#preudo-random (první stisknutí buňky (0) zůstane) -> aby měl někdo jiný stejný výsledek"
   ]
  },
  {
   "cell_type": "code",
   "execution_count": null,
   "id": "0286ad20-e662-4664-8e5d-a7114d087103",
   "metadata": {},
   "outputs": [],
   "source": [
    "## Viewing arrays and matrices"
   ]
  },
  {
   "cell_type": "code",
   "execution_count": null,
   "id": "11d8e332",
   "metadata": {},
   "outputs": [],
   "source": []
  }
 ],
 "metadata": {
  "kernelspec": {
   "display_name": "Python 3 (ipykernel)",
   "language": "python",
   "name": "python3"
  },
  "language_info": {
   "codemirror_mode": {
    "name": "ipython",
    "version": 3
   },
   "file_extension": ".py",
   "mimetype": "text/x-python",
   "name": "python",
   "nbconvert_exporter": "python",
   "pygments_lexer": "ipython3",
   "version": "3.10.0"
  }
 },
 "nbformat": 4,
 "nbformat_minor": 5
}
